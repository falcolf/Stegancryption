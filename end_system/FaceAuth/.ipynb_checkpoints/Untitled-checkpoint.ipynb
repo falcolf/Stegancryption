{
 "cells": [
  {
   "cell_type": "code",
   "execution_count": 1,
   "metadata": {},
   "outputs": [],
   "source": [
    "import numpy as np\n",
    "import cv2\n",
    "import os\n",
    "import time"
   ]
  },
  {
   "cell_type": "code",
   "execution_count": 2,
   "metadata": {},
   "outputs": [],
   "source": [
    "image_path=[]\n",
    "labels=[]\n",
    "cap=cv2.VideoCapture(0)\n",
    "images = 0\n",
    "while images<20:\n",
    "    ret,frame = cap.read()\n",
    "    #frame = cv2.cvtColor(frame,cv2.COLOR_BGR2GRAY)\n",
    "    path = 'data/1/person1_'+str(images)+'.jpg'\n",
    "    cv2.imwrite(path,frame)\n",
    "    images+=1\n",
    "    image_path.append(path)\n",
    "    labels.append(0)\n",
    "    time.sleep(3)\n",
    "cap.release()"
   ]
  },
  {
   "cell_type": "code",
   "execution_count": 21,
   "metadata": {},
   "outputs": [
    {
     "name": "stdout",
     "output_type": "stream",
     "text": [
      "person 2 now\n",
      "anykey to continuea\n"
     ]
    }
   ],
   "source": [
    "print('person 2 now')\n",
    "inp = input(\"anykey to continue\")\n",
    "time.sleep(5)\n",
    "cap=cv2.VideoCapture(0)\n",
    "images = 0\n",
    "while images<20:\n",
    "    ret,frame = cap.read()\n",
    "    #frame = cv2.cvtColor(frame,cv2.COLOR_BGR2GRAY)\n",
    "    path = 'data/2/person2_'+str(images)+'.jpg'\n",
    "    cv2.imwrite(path,frame)\n",
    "    images+=1\n",
    "    image_path.append(path)\n",
    "    labels.append(1)\n",
    "    time.sleep(3)\n",
    "cap.release()"
   ]
  },
  {
   "cell_type": "code",
   "execution_count": 2,
   "metadata": {},
   "outputs": [],
   "source": [
    "def detect_face(img):\n",
    "    grayimg = cv2.cvtColor(img , cv2.COLOR_BGR2GRAY)\n",
    "    fc = cv2.CascadeClassifier('lbp_frontalface.xml')\n",
    "    faces = fc.detectMultiScale(grayimg,scaleFactor=1.2,minNeighbors=5)\n",
    "    if len(faces) == 0:\n",
    "        return None,None\n",
    "    x,y,w,h = faces[0]\n",
    "    return grayimg[y:y+w, x:x+h], tuple(faces[0])\n",
    "    "
   ]
  },
  {
   "cell_type": "code",
   "execution_count": 3,
   "metadata": {},
   "outputs": [],
   "source": [
    "def draw_rectangle(img, rect):\n",
    "    (x, y, w, h) = rect\n",
    "    cv2.rectangle(img, (x, y), (x+w, y+h), (0, 255, 0), 2)\n",
    "    return img\n",
    "    "
   ]
  },
  {
   "cell_type": "code",
   "execution_count": 4,
   "metadata": {},
   "outputs": [],
   "source": [
    "def draw_text(img, text, x, y):\n",
    "    cv2.putText(img, text, (x, y), cv2.FONT_HERSHEY_PLAIN, 1.5, (0, 255, 0), 2)"
   ]
  },
  {
   "cell_type": "code",
   "execution_count": 5,
   "metadata": {},
   "outputs": [],
   "source": [
    "impath = []\n",
    "labels=[]\n",
    "for file in os.listdir('data/1/'):\n",
    "    if file.startswith('person'):\n",
    "        impath.append('data/1/'+file)\n",
    "        labels.append(0)\n",
    "for file in os.listdir('data/2/'):\n",
    "    if file.startswith('person'):\n",
    "        impath.append('data/2/'+file)\n",
    "        labels.append(1)\n",
    "image_path = impath"
   ]
  },
  {
   "cell_type": "code",
   "execution_count": 6,
   "metadata": {},
   "outputs": [
    {
     "name": "stdout",
     "output_type": "stream",
     "text": [
      "38\n"
     ]
    }
   ],
   "source": [
    "faces_data=[]\n",
    "faces = []\n",
    "labels_new= []\n",
    "for imagep,label in zip(image_path,labels):\n",
    "    image = cv2.imread(imagep)\n",
    "    face,rect = detect_face(image)\n",
    "    if face is not None:\n",
    "        faces.append(face)\n",
    "        labels_new.append(label)\n",
    "        fdata=[face,rect,label]\n",
    "        faces_data.append(fdata)\n",
    "        \n",
    "print(len(faces_data))"
   ]
  },
  {
   "cell_type": "code",
   "execution_count": 7,
   "metadata": {},
   "outputs": [],
   "source": [
    "face_rec = cv2.face.LBPHFaceRecognizer_create()"
   ]
  },
  {
   "cell_type": "code",
   "execution_count": 8,
   "metadata": {},
   "outputs": [],
   "source": [
    "face_rec.train(faces,np.array(labels_new))"
   ]
  },
  {
   "cell_type": "code",
   "execution_count": 37,
   "metadata": {},
   "outputs": [
    {
     "name": "stdout",
     "output_type": "stream",
     "text": [
      "1\n"
     ]
    }
   ],
   "source": [
    "im=cv2.imread('test1.jpg')\n",
    "f , r = detect_face(im)\n",
    "lab = face_rec.predict(f)\n",
    "print(lab[0])\n"
   ]
  },
  {
   "cell_type": "code",
   "execution_count": null,
   "metadata": {},
   "outputs": [],
   "source": [
    "subjects=['jagrit','parth']\n",
    "cap = cv2.VideoCapture(0)\n",
    "while True:\n",
    "    ret,frame = cap.read()\n",
    "    f , r = detect_face(frame)\n",
    "    if f is not None and r is not None:\n",
    "        lab = face_rec.predict(f)\n",
    "        name = subjects[lab[0]]\n",
    "        draw_rectangle(frame,r)\n",
    "        draw_text(frame,name,r[0],r[1]-5)\n",
    "    cv2.imshow(\"Frame\", frame)\n",
    "    cv2.resizeWindow('image', 600,600)\n",
    "    key = cv2.waitKey(1) & 0xFF\n",
    "    if key == ord(\"q\"):\n",
    "        break\n",
    "cv2.destroyAllWindows()\n",
    "cap.release()"
   ]
  },
  {
   "cell_type": "code",
   "execution_count": 43,
   "metadata": {},
   "outputs": [],
   "source": [
    "cap.release()"
   ]
  },
  {
   "cell_type": "code",
   "execution_count": 42,
   "metadata": {},
   "outputs": [],
   "source": [
    "cv2.destroyAllWindows()"
   ]
  },
  {
   "cell_type": "code",
   "execution_count": null,
   "metadata": {},
   "outputs": [],
   "source": []
  }
 ],
 "metadata": {
  "kernelspec": {
   "display_name": "Python 3",
   "language": "python",
   "name": "python3"
  },
  "language_info": {
   "codemirror_mode": {
    "name": "ipython",
    "version": 3
   },
   "file_extension": ".py",
   "mimetype": "text/x-python",
   "name": "python",
   "nbconvert_exporter": "python",
   "pygments_lexer": "ipython3",
   "version": "3.6.5"
  },
  "varInspector": {
   "cols": {
    "lenName": 16,
    "lenType": 16,
    "lenVar": 40
   },
   "kernels_config": {
    "python": {
     "delete_cmd_postfix": "",
     "delete_cmd_prefix": "del ",
     "library": "var_list.py",
     "varRefreshCmd": "print(var_dic_list())"
    },
    "r": {
     "delete_cmd_postfix": ") ",
     "delete_cmd_prefix": "rm(",
     "library": "var_list.r",
     "varRefreshCmd": "cat(var_dic_list()) "
    }
   },
   "position": {
    "height": "213px",
    "left": "709px",
    "right": "379px",
    "top": "185px",
    "width": "352px"
   },
   "types_to_exclude": [
    "module",
    "function",
    "builtin_function_or_method",
    "instance",
    "_Feature"
   ],
   "window_display": false
  }
 },
 "nbformat": 4,
 "nbformat_minor": 2
}
